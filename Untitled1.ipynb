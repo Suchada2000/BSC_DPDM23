{
  "nbformat": 4,
  "nbformat_minor": 0,
  "metadata": {
    "colab": {
      "provenance": [],
      "authorship_tag": "ABX9TyO2X6g2JdK8qHZOgIdx9CEy",
      "include_colab_link": true
    },
    "kernelspec": {
      "name": "python3",
      "display_name": "Python 3"
    },
    "language_info": {
      "name": "python"
    }
  },
  "cells": [
    {
      "cell_type": "markdown",
      "metadata": {
        "id": "view-in-github",
        "colab_type": "text"
      },
      "source": [
        "<a href=\"https://colab.research.google.com/github/Suchada2000/BSC_DPDM23/blob/main/Untitled1.ipynb\" target=\"_parent\"><img src=\"https://colab.research.google.com/assets/colab-badge.svg\" alt=\"Open In Colab\"/></a>"
      ]
    },
    {
      "cell_type": "markdown",
      "source": [
        "HW2"
      ],
      "metadata": {
        "id": "reqGoXiiZkSb"
      }
    },
    {
      "cell_type": "markdown",
      "source": [
        "https://cdn.fbsbx.com/v/t59.2708-21/422448489_2250085195190881_2180956585575461168_n.pdf/HW2.pdf?_nc_cat=100&ccb=1-7&_nc_sid=2b0e22&_nc_eui2=AeHJ4S5109nI3LuxZBq6gELg70-NQ0yh07nvT41DTKHTuQ2sPl5SLTV1E2riTRtmjnlSPfZFHKt4GBZzsYJzBhii&_nc_ohc=G515IX2F6l4AX9UXWkb&_nc_ht=cdn.fbsbx.com&oh=03_AdQW_yJRxb0wMYoouHwpvrivZ7qyvqkBxDOEqXPGAe2miA&oe=65B28FCA&dl=1"
      ],
      "metadata": {
        "id": "Vp_c3NLLZotK"
      }
    }
  ]
}