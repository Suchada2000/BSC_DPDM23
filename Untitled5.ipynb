{
  "nbformat": 4,
  "nbformat_minor": 0,
  "metadata": {
    "colab": {
      "provenance": [],
      "authorship_tag": "ABX9TyMrLxEBf4pPkkm2PDOy4XK2",
      "include_colab_link": true
    },
    "kernelspec": {
      "name": "python3",
      "display_name": "Python 3"
    },
    "language_info": {
      "name": "python"
    }
  },
  "cells": [
    {
      "cell_type": "markdown",
      "metadata": {
        "id": "view-in-github",
        "colab_type": "text"
      },
      "source": [
        "<a href=\"https://colab.research.google.com/github/Suchada2000/BSC_DPDM23/blob/main/Untitled5.ipynb\" target=\"_parent\"><img src=\"https://colab.research.google.com/assets/colab-badge.svg\" alt=\"Open In Colab\"/></a>"
      ]
    },
    {
      "cell_type": "markdown",
      "source": [
        "HW4"
      ],
      "metadata": {
        "id": "krJz0IkbGFHL"
      }
    },
    {
      "cell_type": "markdown",
      "source": [
        "https://drive.google.com/drive/folders/1k4sS3MnKa2Ty8wChGQ9v59zJbuWdhffP?fbclid=IwAR2qOYf2PZoFe7Ss9aE0JKAhFxObeILCoVySq-HtxSfNDseO3ciGsKJZUOU\n"
      ],
      "metadata": {
        "id": "hVf7usUOGWKM"
      }
    },
    {
      "cell_type": "markdown",
      "source": [
        "file:///D:/RstudioandR/HW4.pdf"
      ],
      "metadata": {
        "id": "9z0eO0puGZNv"
      }
    },
    {
      "cell_type": "markdown",
      "source": [
        "**canva**"
      ],
      "metadata": {
        "id": "22APtK3WGHwk"
      }
    },
    {
      "cell_type": "markdown",
      "source": [
        "https://www.canva.com/design/DAF9BndkLuA/sW0QQDe9J8A8iwAmN0lUzw/edit"
      ],
      "metadata": {
        "id": "K1msznAKGc-n"
      }
    }
  ]
}